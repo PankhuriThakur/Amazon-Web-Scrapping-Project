{
 "cells": [
  {
   "cell_type": "code",
   "execution_count": 27,
   "id": "1af66979",
   "metadata": {},
   "outputs": [],
   "source": [
    "#import libraries\n",
    "\n",
    "from bs4 import BeautifulSoup\n",
    "import requests\n",
    "import time\n",
    "import datetime\n",
    "\n",
    "import smtplib"
   ]
  },
  {
   "cell_type": "code",
   "execution_count": 32,
   "id": "2eced2b4",
   "metadata": {},
   "outputs": [],
   "source": [
    "#Connnect to Website\n",
    "\n",
    "URL = 'https://www.amazon.com/Funny-Data-Systems-Business-Analyst/dp/B07FNW9FGJ/ref=sr_1_1?crid=3D06374PMMTNE&keywords=got+data+tshirt&qid=1685131893&s=amazon-devices&sprefix=got+data+tshirt%2Camazon-devices%2C143&sr=1-1'\n",
    "\n",
    "headers = {\"User-Agent\": \"Mozilla/5.0 (Windows NT 10.0; Win64; x64) AppleWebKit/537.36 (KHTML, like Gecko) Chrome/113.0.0.0 Safari/537.36\", \n",
    "    \"X-Amzn-Trace-Id\": \"Root=1-64711403-1c26b7bf4625471c0d4b2584\"}\n",
    "\n",
    "page = requests.get(URL, headers = headers)\n",
    "\n",
    "soup1 = BeautifulSoup(page.content, \"html.parser\")\n",
    "\n",
    "soup2 = BeautifulSoup(soup1.prettify(), \"html.parser\")\n",
    "                        "
   ]
  },
  {
   "cell_type": "code",
   "execution_count": 5,
   "id": "d4859d9d",
   "metadata": {},
   "outputs": [],
   "source": [
    "# In BeautifulSoup, the prettify() method is used to transform a parsed HTML or XML document into a nicely formatted string. It adds indentation and line breaks to the document structure, making it more readable and visually appealing.\n",
    "\n",
    "#When you call the prettify() method on a BeautifulSoup object or a specific element, it returns a string representation of the document with proper indentation and formatting."
   ]
  },
  {
   "cell_type": "code",
   "execution_count": 37,
   "id": "2107ce5b",
   "metadata": {},
   "outputs": [
    {
     "name": "stdout",
     "output_type": "stream",
     "text": [
      "Funny Got Data MIS Data Systems Business Analyst T-Shirt\n"
     ]
    }
   ],
   "source": [
    "# Pull in the data for title\n",
    "\n",
    "html = '''<span id=\"productTitle\" class=\"a-size-large product-title-word-break\">Funny Got Data MIS Data Systems Business Analyst T-Shirt</span>\n",
    "'''\n",
    "\n",
    "soup = BeautifulSoup(html, \"html.parser\")\n",
    "title_element_extraction = soup.find(id = \"productTitle\")\n",
    "\n",
    "if title_element_extraction:\n",
    "    product_title = title_element.get_text().strip()\n",
    "    print(product_title)\n",
    "else:\n",
    "    print(\"Product Title not found\")"
   ]
  },
  {
   "cell_type": "code",
   "execution_count": 44,
   "id": "c6d4adff",
   "metadata": {},
   "outputs": [
    {
     "name": "stdout",
     "output_type": "stream",
     "text": [
      "Price: $ 16.\n"
     ]
    }
   ],
   "source": [
    "#Pull in the data for Price of the Product\n",
    "\n",
    "html = '''<span class=\"a-price-whole\">16<span class=\"a-price-decimal\">.</span></span>'''\n",
    "\n",
    "soup = BeautifulSoup(html, \"html.parser\")\n",
    "price_element = soup.find(class_ = \"a-price-whole\")\n",
    "if price_element:\n",
    "    price = price_element.get_text().strip()\n",
    "    print(\"Price: $\", price)\n",
    "else:\n",
    "    print(\"Price not found\")"
   ]
  },
  {
   "cell_type": "code",
   "execution_count": 45,
   "id": "d9ae3207",
   "metadata": {},
   "outputs": [
    {
     "name": "stdout",
     "output_type": "stream",
     "text": [
      "Funny Got Data MIS Data Systems Business Analyst T-Shirt\n",
      "16\n"
     ]
    }
   ],
   "source": [
    "# Clean up the data a little bit\n",
    "\n",
    "price = price.strip()[:2]\n",
    "title = title.strip()\n",
    "\n",
    "print(title)\n",
    "print(price)"
   ]
  },
  {
   "cell_type": "code",
   "execution_count": 46,
   "id": "c83e31af",
   "metadata": {},
   "outputs": [
    {
     "name": "stdout",
     "output_type": "stream",
     "text": [
      "2023-05-26\n"
     ]
    }
   ],
   "source": [
    "# Create a Timestamp for output to track when data was collected\n",
    "\n",
    "import datetime\n",
    "\n",
    "today = datetime.date.today()\n",
    "print(today)"
   ]
  },
  {
   "cell_type": "code",
   "execution_count": 47,
   "id": "12db2fd4",
   "metadata": {},
   "outputs": [],
   "source": [
    "# Create CSV and write headers and data into the file \n",
    "\n",
    "import csv\n",
    "\n",
    "header = ['Title', 'Price', 'Date']\n",
    "data = [title, price, today]\n",
    "\n",
    "with open ('AmazonWebScraperData.csv', 'w', newline = '', encoding='UTF8') as f:\n",
    "    writer = csv.writer(f)\n",
    "    writer.writerow(header)\n",
    "    writer.writerow(data)"
   ]
  },
  {
   "cell_type": "code",
   "execution_count": 48,
   "id": "aa0540d3",
   "metadata": {},
   "outputs": [],
   "source": [
    "#In the given code, 'w' is the mode parameter for opening the file AmazonWebScraperData.csv. It stands for \"write\" mode.\n",
    "\n",
    "#When opening a file using open() function in Python, you can specify the mode parameter to indicate how you want to interact with the file. The mode parameter can take different values, such as:\n",
    "\n",
    "#'r': Read mode (default) - Open the file for reading.\n",
    "#'w': Write mode - Open the file for writing. If the file already exists, it will be truncated (emptied) before writing. If the file doesn't exist, a new file will be created.\n",
    "#'a': Append mode - Open the file for writing, but if it exists, the new data will be appended to the end of the file instead of overwriting it.\n",
    "#'x': Exclusive creation mode - Open the file for writing, but only if it doesn't already exist. If the file exists, an error will be raised.\n",
    "#In the given code, 'w' mode is used to open the file AmazonWebScraperData.csv for writing. If the file already exists, it will be emptied before writing the new data. If the file doesn't exist, a new file will be created.\n",
    "\n",
    "\n",
    "\n",
    "\n"
   ]
  },
  {
   "cell_type": "code",
   "execution_count": null,
   "id": "115a7194",
   "metadata": {},
   "outputs": [],
   "source": []
  },
  {
   "cell_type": "code",
   "execution_count": null,
   "id": "423efe21",
   "metadata": {},
   "outputs": [],
   "source": []
  },
  {
   "cell_type": "code",
   "execution_count": null,
   "id": "85b2b1f7",
   "metadata": {},
   "outputs": [],
   "source": []
  },
  {
   "cell_type": "code",
   "execution_count": null,
   "id": "d42bd131",
   "metadata": {},
   "outputs": [],
   "source": []
  },
  {
   "cell_type": "code",
   "execution_count": null,
   "id": "7279958f",
   "metadata": {},
   "outputs": [],
   "source": []
  },
  {
   "cell_type": "code",
   "execution_count": null,
   "id": "d5a04313",
   "metadata": {},
   "outputs": [],
   "source": []
  },
  {
   "cell_type": "code",
   "execution_count": null,
   "id": "9fe96d5f",
   "metadata": {},
   "outputs": [],
   "source": []
  },
  {
   "cell_type": "code",
   "execution_count": null,
   "id": "9fed59b7",
   "metadata": {},
   "outputs": [],
   "source": []
  }
 ],
 "metadata": {
  "kernelspec": {
   "display_name": "Python 3 (ipykernel)",
   "language": "python",
   "name": "python3"
  },
  "language_info": {
   "codemirror_mode": {
    "name": "ipython",
    "version": 3
   },
   "file_extension": ".py",
   "mimetype": "text/x-python",
   "name": "python",
   "nbconvert_exporter": "python",
   "pygments_lexer": "ipython3",
   "version": "3.9.13"
  }
 },
 "nbformat": 4,
 "nbformat_minor": 5
}
